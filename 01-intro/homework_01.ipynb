{
 "cells": [
  {
   "cell_type": "code",
   "execution_count": 1,
   "id": "fb453566",
   "metadata": {},
   "outputs": [],
   "source": [
    "import pandas as pd\n",
    "import seaborn as sns\n",
    "import matplotlib.pyplot as plt\n",
    "from sklearn.feature_extraction import DictVectorizer\n",
    "from sklearn.linear_model import LinearRegression\n",
    "from sklearn.metrics import mean_squared_error\n",
    "import pickle"
   ]
  },
  {
   "cell_type": "markdown",
   "id": "e83f90ad",
   "metadata": {},
   "source": [
    "## Q1. Downloading the data"
   ]
  },
  {
   "cell_type": "markdown",
   "id": "9f2036d1",
   "metadata": {},
   "source": [
    "We'll use [the same NYC taxi dataset](https://www1.nyc.gov/site/tlc/about/tlc-trip-record-data.page),\n",
    "but instead of \"**Green** Taxi Trip Records\", we'll use \"**Yellow** Taxi Trip Records\".\n",
    "\n",
    "Download the data for January and February 2023.\n",
    "\n",
    "Read the data for January. How many columns are there?"
   ]
  },
  {
   "cell_type": "code",
   "execution_count": 2,
   "id": "373488d4",
   "metadata": {},
   "outputs": [],
   "source": [
    "jan_file=\"https://d37ci6vzurychx.cloudfront.net/trip-data/yellow_tripdata_2023-01.parquet\"\n",
    "feb_file=\"https://d37ci6vzurychx.cloudfront.net/trip-data/yellow_tripdata_2023-02.parquet\""
   ]
  },
  {
   "cell_type": "code",
   "execution_count": 3,
   "id": "ee070887",
   "metadata": {},
   "outputs": [],
   "source": [
    "jan_df=pd.read_parquet(jan_file)"
   ]
  },
  {
   "cell_type": "code",
   "execution_count": 4,
   "id": "01a0f93c",
   "metadata": {},
   "outputs": [
    {
     "name": "stdout",
     "output_type": "stream",
     "text": [
      "<class 'pandas.core.frame.DataFrame'>\n",
      "RangeIndex: 3066766 entries, 0 to 3066765\n",
      "Data columns (total 19 columns):\n",
      " #   Column                 Dtype         \n",
      "---  ------                 -----         \n",
      " 0   VendorID               int64         \n",
      " 1   tpep_pickup_datetime   datetime64[ns]\n",
      " 2   tpep_dropoff_datetime  datetime64[ns]\n",
      " 3   passenger_count        float64       \n",
      " 4   trip_distance          float64       \n",
      " 5   RatecodeID             float64       \n",
      " 6   store_and_fwd_flag     object        \n",
      " 7   PULocationID           int64         \n",
      " 8   DOLocationID           int64         \n",
      " 9   payment_type           int64         \n",
      " 10  fare_amount            float64       \n",
      " 11  extra                  float64       \n",
      " 12  mta_tax                float64       \n",
      " 13  tip_amount             float64       \n",
      " 14  tolls_amount           float64       \n",
      " 15  improvement_surcharge  float64       \n",
      " 16  total_amount           float64       \n",
      " 17  congestion_surcharge   float64       \n",
      " 18  airport_fee            float64       \n",
      "dtypes: datetime64[ns](2), float64(12), int64(4), object(1)\n",
      "memory usage: 444.6+ MB\n"
     ]
    }
   ],
   "source": [
    "jan_df.info()"
   ]
  },
  {
   "cell_type": "markdown",
   "id": "878193e5",
   "metadata": {},
   "source": [
    "## Q2. Computing duration"
   ]
  },
  {
   "cell_type": "markdown",
   "id": "151a8e3d",
   "metadata": {},
   "source": [
    "Now let's compute the `duration` variable. It should contain the duration of a ride in minutes. \n",
    "\n",
    "What's the standard deviation of the trips duration in January?"
   ]
  },
  {
   "cell_type": "code",
   "execution_count": 5,
   "id": "f55546e5",
   "metadata": {},
   "outputs": [],
   "source": [
    "jan_df=jan_df.assign(\n",
    "    duration=lambda d: (d['tpep_dropoff_datetime']-d['tpep_pickup_datetime']).dt.total_seconds()/60\n",
    ")"
   ]
  },
  {
   "cell_type": "code",
   "execution_count": 6,
   "id": "3c69b9d4",
   "metadata": {},
   "outputs": [
    {
     "data": {
      "text/html": [
       "<div>\n",
       "<style scoped>\n",
       "    .dataframe tbody tr th:only-of-type {\n",
       "        vertical-align: middle;\n",
       "    }\n",
       "\n",
       "    .dataframe tbody tr th {\n",
       "        vertical-align: top;\n",
       "    }\n",
       "\n",
       "    .dataframe thead th {\n",
       "        text-align: right;\n",
       "    }\n",
       "</style>\n",
       "<table border=\"1\" class=\"dataframe\">\n",
       "  <thead>\n",
       "    <tr style=\"text-align: right;\">\n",
       "      <th></th>\n",
       "      <th>count</th>\n",
       "      <th>mean</th>\n",
       "      <th>std</th>\n",
       "      <th>min</th>\n",
       "      <th>25%</th>\n",
       "      <th>50%</th>\n",
       "      <th>75%</th>\n",
       "      <th>max</th>\n",
       "    </tr>\n",
       "  </thead>\n",
       "  <tbody>\n",
       "    <tr>\n",
       "      <th>VendorID</th>\n",
       "      <td>3066766.0</td>\n",
       "      <td>1.73</td>\n",
       "      <td>0.44</td>\n",
       "      <td>1.00</td>\n",
       "      <td>1.00</td>\n",
       "      <td>2.00</td>\n",
       "      <td>2.00</td>\n",
       "      <td>2.00</td>\n",
       "    </tr>\n",
       "    <tr>\n",
       "      <th>passenger_count</th>\n",
       "      <td>2995023.0</td>\n",
       "      <td>1.36</td>\n",
       "      <td>0.90</td>\n",
       "      <td>0.00</td>\n",
       "      <td>1.00</td>\n",
       "      <td>1.00</td>\n",
       "      <td>1.00</td>\n",
       "      <td>9.00</td>\n",
       "    </tr>\n",
       "    <tr>\n",
       "      <th>trip_distance</th>\n",
       "      <td>3066766.0</td>\n",
       "      <td>3.85</td>\n",
       "      <td>249.58</td>\n",
       "      <td>0.00</td>\n",
       "      <td>1.06</td>\n",
       "      <td>1.80</td>\n",
       "      <td>3.33</td>\n",
       "      <td>258928.15</td>\n",
       "    </tr>\n",
       "    <tr>\n",
       "      <th>RatecodeID</th>\n",
       "      <td>2995023.0</td>\n",
       "      <td>1.50</td>\n",
       "      <td>6.47</td>\n",
       "      <td>1.00</td>\n",
       "      <td>1.00</td>\n",
       "      <td>1.00</td>\n",
       "      <td>1.00</td>\n",
       "      <td>99.00</td>\n",
       "    </tr>\n",
       "    <tr>\n",
       "      <th>PULocationID</th>\n",
       "      <td>3066766.0</td>\n",
       "      <td>166.40</td>\n",
       "      <td>64.24</td>\n",
       "      <td>1.00</td>\n",
       "      <td>132.00</td>\n",
       "      <td>162.00</td>\n",
       "      <td>234.00</td>\n",
       "      <td>265.00</td>\n",
       "    </tr>\n",
       "    <tr>\n",
       "      <th>DOLocationID</th>\n",
       "      <td>3066766.0</td>\n",
       "      <td>164.39</td>\n",
       "      <td>69.94</td>\n",
       "      <td>1.00</td>\n",
       "      <td>114.00</td>\n",
       "      <td>162.00</td>\n",
       "      <td>234.00</td>\n",
       "      <td>265.00</td>\n",
       "    </tr>\n",
       "    <tr>\n",
       "      <th>payment_type</th>\n",
       "      <td>3066766.0</td>\n",
       "      <td>1.19</td>\n",
       "      <td>0.53</td>\n",
       "      <td>0.00</td>\n",
       "      <td>1.00</td>\n",
       "      <td>1.00</td>\n",
       "      <td>1.00</td>\n",
       "      <td>4.00</td>\n",
       "    </tr>\n",
       "    <tr>\n",
       "      <th>fare_amount</th>\n",
       "      <td>3066766.0</td>\n",
       "      <td>18.37</td>\n",
       "      <td>17.81</td>\n",
       "      <td>-900.00</td>\n",
       "      <td>8.60</td>\n",
       "      <td>12.80</td>\n",
       "      <td>20.50</td>\n",
       "      <td>1160.10</td>\n",
       "    </tr>\n",
       "    <tr>\n",
       "      <th>extra</th>\n",
       "      <td>3066766.0</td>\n",
       "      <td>1.54</td>\n",
       "      <td>1.79</td>\n",
       "      <td>-7.50</td>\n",
       "      <td>0.00</td>\n",
       "      <td>1.00</td>\n",
       "      <td>2.50</td>\n",
       "      <td>12.50</td>\n",
       "    </tr>\n",
       "    <tr>\n",
       "      <th>mta_tax</th>\n",
       "      <td>3066766.0</td>\n",
       "      <td>0.49</td>\n",
       "      <td>0.10</td>\n",
       "      <td>-0.50</td>\n",
       "      <td>0.50</td>\n",
       "      <td>0.50</td>\n",
       "      <td>0.50</td>\n",
       "      <td>53.16</td>\n",
       "    </tr>\n",
       "    <tr>\n",
       "      <th>tip_amount</th>\n",
       "      <td>3066766.0</td>\n",
       "      <td>3.37</td>\n",
       "      <td>3.83</td>\n",
       "      <td>-96.22</td>\n",
       "      <td>1.00</td>\n",
       "      <td>2.72</td>\n",
       "      <td>4.20</td>\n",
       "      <td>380.80</td>\n",
       "    </tr>\n",
       "    <tr>\n",
       "      <th>tolls_amount</th>\n",
       "      <td>3066766.0</td>\n",
       "      <td>0.52</td>\n",
       "      <td>2.02</td>\n",
       "      <td>-65.00</td>\n",
       "      <td>0.00</td>\n",
       "      <td>0.00</td>\n",
       "      <td>0.00</td>\n",
       "      <td>196.99</td>\n",
       "    </tr>\n",
       "    <tr>\n",
       "      <th>improvement_surcharge</th>\n",
       "      <td>3066766.0</td>\n",
       "      <td>0.98</td>\n",
       "      <td>0.18</td>\n",
       "      <td>-1.00</td>\n",
       "      <td>1.00</td>\n",
       "      <td>1.00</td>\n",
       "      <td>1.00</td>\n",
       "      <td>1.00</td>\n",
       "    </tr>\n",
       "    <tr>\n",
       "      <th>total_amount</th>\n",
       "      <td>3066766.0</td>\n",
       "      <td>27.02</td>\n",
       "      <td>22.16</td>\n",
       "      <td>-751.00</td>\n",
       "      <td>15.40</td>\n",
       "      <td>20.16</td>\n",
       "      <td>28.70</td>\n",
       "      <td>1169.40</td>\n",
       "    </tr>\n",
       "    <tr>\n",
       "      <th>congestion_surcharge</th>\n",
       "      <td>2995023.0</td>\n",
       "      <td>2.27</td>\n",
       "      <td>0.77</td>\n",
       "      <td>-2.50</td>\n",
       "      <td>2.50</td>\n",
       "      <td>2.50</td>\n",
       "      <td>2.50</td>\n",
       "      <td>2.50</td>\n",
       "    </tr>\n",
       "    <tr>\n",
       "      <th>airport_fee</th>\n",
       "      <td>2995023.0</td>\n",
       "      <td>0.11</td>\n",
       "      <td>0.36</td>\n",
       "      <td>-1.25</td>\n",
       "      <td>0.00</td>\n",
       "      <td>0.00</td>\n",
       "      <td>0.00</td>\n",
       "      <td>1.25</td>\n",
       "    </tr>\n",
       "    <tr>\n",
       "      <th>duration</th>\n",
       "      <td>3066766.0</td>\n",
       "      <td>15.67</td>\n",
       "      <td>42.59</td>\n",
       "      <td>-29.20</td>\n",
       "      <td>7.12</td>\n",
       "      <td>11.52</td>\n",
       "      <td>18.30</td>\n",
       "      <td>10029.18</td>\n",
       "    </tr>\n",
       "  </tbody>\n",
       "</table>\n",
       "</div>"
      ],
      "text/plain": [
       "                           count    mean     std     min     25%     50%  \\\n",
       "VendorID               3066766.0    1.73    0.44    1.00    1.00    2.00   \n",
       "passenger_count        2995023.0    1.36    0.90    0.00    1.00    1.00   \n",
       "trip_distance          3066766.0    3.85  249.58    0.00    1.06    1.80   \n",
       "RatecodeID             2995023.0    1.50    6.47    1.00    1.00    1.00   \n",
       "PULocationID           3066766.0  166.40   64.24    1.00  132.00  162.00   \n",
       "DOLocationID           3066766.0  164.39   69.94    1.00  114.00  162.00   \n",
       "payment_type           3066766.0    1.19    0.53    0.00    1.00    1.00   \n",
       "fare_amount            3066766.0   18.37   17.81 -900.00    8.60   12.80   \n",
       "extra                  3066766.0    1.54    1.79   -7.50    0.00    1.00   \n",
       "mta_tax                3066766.0    0.49    0.10   -0.50    0.50    0.50   \n",
       "tip_amount             3066766.0    3.37    3.83  -96.22    1.00    2.72   \n",
       "tolls_amount           3066766.0    0.52    2.02  -65.00    0.00    0.00   \n",
       "improvement_surcharge  3066766.0    0.98    0.18   -1.00    1.00    1.00   \n",
       "total_amount           3066766.0   27.02   22.16 -751.00   15.40   20.16   \n",
       "congestion_surcharge   2995023.0    2.27    0.77   -2.50    2.50    2.50   \n",
       "airport_fee            2995023.0    0.11    0.36   -1.25    0.00    0.00   \n",
       "duration               3066766.0   15.67   42.59  -29.20    7.12   11.52   \n",
       "\n",
       "                          75%        max  \n",
       "VendorID                 2.00       2.00  \n",
       "passenger_count          1.00       9.00  \n",
       "trip_distance            3.33  258928.15  \n",
       "RatecodeID               1.00      99.00  \n",
       "PULocationID           234.00     265.00  \n",
       "DOLocationID           234.00     265.00  \n",
       "payment_type             1.00       4.00  \n",
       "fare_amount             20.50    1160.10  \n",
       "extra                    2.50      12.50  \n",
       "mta_tax                  0.50      53.16  \n",
       "tip_amount               4.20     380.80  \n",
       "tolls_amount             0.00     196.99  \n",
       "improvement_surcharge    1.00       1.00  \n",
       "total_amount            28.70    1169.40  \n",
       "congestion_surcharge     2.50       2.50  \n",
       "airport_fee              0.00       1.25  \n",
       "duration                18.30   10029.18  "
      ]
     },
     "execution_count": 6,
     "metadata": {},
     "output_type": "execute_result"
    }
   ],
   "source": [
    "round(jan_df.describe().T,2)"
   ]
  },
  {
   "cell_type": "markdown",
   "id": "c0e4fb66",
   "metadata": {},
   "source": [
    "## Q3. Dropping outliers"
   ]
  },
  {
   "cell_type": "markdown",
   "id": "2294b83f",
   "metadata": {},
   "source": [
    "Next, we need to check the distribution of the `duration` variable. There are some outliers. Let's remove them and keep only the records where the duration was between 1 and 60 minutes (inclusive).\n",
    "\n",
    "What fraction of the records left after you dropped the outliers?"
   ]
  },
  {
   "cell_type": "code",
   "execution_count": 7,
   "id": "6098fd9b",
   "metadata": {},
   "outputs": [
    {
     "data": {
      "text/plain": [
       "0.9812202822125979"
      ]
     },
     "execution_count": 7,
     "metadata": {},
     "output_type": "execute_result"
    }
   ],
   "source": [
    "jan_df['duration'].between(1,60).mean()"
   ]
  },
  {
   "cell_type": "code",
   "execution_count": 8,
   "id": "359f92e2",
   "metadata": {},
   "outputs": [],
   "source": [
    "jan_wo_outliers=jan_df.query(\"duration.between(1,60)\")"
   ]
  },
  {
   "cell_type": "markdown",
   "id": "132ba065",
   "metadata": {},
   "source": [
    "## Q4. One-hot encoding"
   ]
  },
  {
   "cell_type": "markdown",
   "id": "46d2e94e",
   "metadata": {},
   "source": [
    "Let's apply one-hot encoding to the pickup and dropoff location IDs. We'll use only these two features for our model. \n",
    "\n",
    "* Turn the dataframe into a list of dictionaries (remember to re-cast the ids to strings - otherwise it will \n",
    "  label encode them)\n",
    "* Fit a dictionary vectorizer \n",
    "* Get a feature matrix from it\n",
    "\n",
    "What's the dimensionality of this matrix (number of columns)?"
   ]
  },
  {
   "cell_type": "code",
   "execution_count": 9,
   "id": "45b43d69",
   "metadata": {},
   "outputs": [
    {
     "name": "stderr",
     "output_type": "stream",
     "text": [
      "/tmp/ipykernel_1752/4125198977.py:2: SettingWithCopyWarning: \n",
      "A value is trying to be set on a copy of a slice from a DataFrame.\n",
      "Try using .loc[row_indexer,col_indexer] = value instead\n",
      "\n",
      "See the caveats in the documentation: https://pandas.pydata.org/pandas-docs/stable/user_guide/indexing.html#returning-a-view-versus-a-copy\n",
      "  jan_wo_outliers[categorical] = jan_wo_outliers[categorical].astype(str)\n"
     ]
    }
   ],
   "source": [
    "categorical = ['PULocationID', 'DOLocationID']\n",
    "jan_wo_outliers[categorical] = jan_wo_outliers[categorical].astype(str)"
   ]
  },
  {
   "cell_type": "code",
   "execution_count": 10,
   "id": "24b73348",
   "metadata": {},
   "outputs": [
    {
     "data": {
      "text/plain": [
       "(3009173, 515)"
      ]
     },
     "execution_count": 10,
     "metadata": {},
     "output_type": "execute_result"
    }
   ],
   "source": [
    "train_dicts=jan_wo_outliers[categorical].to_dict(orient='records')\n",
    "dv=DictVectorizer()\n",
    "X_train=dv.fit_transform(train_dicts)\n",
    "X_train.shape"
   ]
  },
  {
   "cell_type": "markdown",
   "id": "85b8b6f7",
   "metadata": {},
   "source": [
    "## Q5. Training a model"
   ]
  },
  {
   "cell_type": "markdown",
   "id": "33c62247",
   "metadata": {},
   "source": [
    "Now let's use the feature matrix from the previous step to train a model. \n",
    "\n",
    "* Train a plain linear regression model with default parameters \n",
    "* Calculate the RMSE of the model on the training data\n",
    "\n",
    "What's the RMSE on train?"
   ]
  },
  {
   "cell_type": "code",
   "execution_count": 11,
   "id": "5a6c2434",
   "metadata": {},
   "outputs": [],
   "source": [
    "target = 'duration'\n",
    "y_train = jan_wo_outliers[target].values"
   ]
  },
  {
   "cell_type": "code",
   "execution_count": 12,
   "id": "4bbb59a1",
   "metadata": {},
   "outputs": [
    {
     "data": {
      "text/plain": [
       "LinearRegression()"
      ]
     },
     "execution_count": 12,
     "metadata": {},
     "output_type": "execute_result"
    }
   ],
   "source": [
    "lr=LinearRegression()\n",
    "lr.fit(X_train, y_train)"
   ]
  },
  {
   "cell_type": "code",
   "execution_count": 13,
   "id": "214a1060",
   "metadata": {},
   "outputs": [
    {
     "data": {
      "text/plain": [
       "7.649261027919939"
      ]
     },
     "execution_count": 13,
     "metadata": {},
     "output_type": "execute_result"
    }
   ],
   "source": [
    "y_pred = lr.predict(X_train)\n",
    "mean_squared_error(y_train, y_pred, squared=False)"
   ]
  },
  {
   "cell_type": "markdown",
   "id": "9d6e0bd5",
   "metadata": {},
   "source": [
    "## Q6. Evaluating the model"
   ]
  },
  {
   "cell_type": "markdown",
   "id": "ddd15e47",
   "metadata": {},
   "source": [
    "Now let's apply this model to the validation dataset (February 2023). \n",
    "\n",
    "What's the RMSE on validation?"
   ]
  },
  {
   "cell_type": "code",
   "execution_count": 14,
   "id": "78485f66",
   "metadata": {},
   "outputs": [],
   "source": [
    "feb_df=(\n",
    "    pd.read_parquet(feb_file)\n",
    "    .assign(\n",
    "        duration=lambda d: (d['tpep_dropoff_datetime']-d['tpep_pickup_datetime']).dt.total_seconds()/60,\n",
    "        \n",
    "    )\n",
    "    .query(\"duration.between(1,60)\")\n",
    ")"
   ]
  },
  {
   "cell_type": "code",
   "execution_count": 15,
   "id": "c4bbaf2f",
   "metadata": {},
   "outputs": [],
   "source": [
    "feb_df[categorical] = feb_df[categorical].astype(str)\n",
    "X_val=dv.transform(\n",
    "    feb_df[categorical].to_dict(orient='records')\n",
    ")\n",
    "y_val=feb_df[target].values"
   ]
  },
  {
   "cell_type": "code",
   "execution_count": 16,
   "id": "a4d0f53d",
   "metadata": {},
   "outputs": [
    {
     "data": {
      "text/plain": [
       "7.811832638273232"
      ]
     },
     "execution_count": 16,
     "metadata": {},
     "output_type": "execute_result"
    }
   ],
   "source": [
    "y_val_pred=lr.predict(X_val)\n",
    "mean_squared_error(y_val, y_val_pred, squared=False)"
   ]
  },
  {
   "cell_type": "code",
   "execution_count": null,
   "id": "12e587ae",
   "metadata": {},
   "outputs": [],
   "source": []
  },
  {
   "cell_type": "code",
   "execution_count": null,
   "id": "887f7361",
   "metadata": {},
   "outputs": [],
   "source": []
  }
 ],
 "metadata": {
  "kernelspec": {
   "display_name": "Python 3 (ipykernel)",
   "language": "python",
   "name": "python3"
  },
  "language_info": {
   "codemirror_mode": {
    "name": "ipython",
    "version": 3
   },
   "file_extension": ".py",
   "mimetype": "text/x-python",
   "name": "python",
   "nbconvert_exporter": "python",
   "pygments_lexer": "ipython3",
   "version": "3.9.12"
  }
 },
 "nbformat": 4,
 "nbformat_minor": 5
}
